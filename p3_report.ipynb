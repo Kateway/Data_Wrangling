{
 "cells": [
  {
   "cell_type": "markdown",
   "metadata": {
    "collapsed": true,
    "deletable": true,
    "editable": true
   },
   "source": [
    "## OpenStreetMap Data Analysis\n",
    "\n",
    "#### Map Area\n",
    "Austin, Texas, United States\n",
    "The data was downloaded at https://mapzen.com/data/metro-extracts/.  A sample of the data was created using file \"generate_sample.py\"."
   ]
  },
  {
   "cell_type": "markdown",
   "metadata": {
    "deletable": true,
    "editable": true
   },
   "source": [
    "### Problems Encountered During the Analysis\n",
    "Two questions were found while analyzing the data.\n",
    "1. Inconsistent street names\n",
    "2. Inconsistent city names\n",
    "3. Inconsistent phone numbers\n",
    "4. Inconsistent state name"
   ]
  },
  {
   "cell_type": "code",
   "execution_count": 1,
   "metadata": {
    "collapsed": false,
    "deletable": true,
    "editable": true
   },
   "outputs": [],
   "source": [
    "SAMPLE_OSM_FILE = \"sample_austin_texas_k_100.osm\""
   ]
  },
  {
   "cell_type": "code",
   "execution_count": 2,
   "metadata": {
    "collapsed": false,
    "deletable": true,
    "editable": true
   },
   "outputs": [
    {
     "data": {
      "text/plain": [
       "{'member': 502,\n",
       " 'nd': 69916,\n",
       " 'node': 63907,\n",
       " 'osm': 1,\n",
       " 'relation': 24,\n",
       " 'tag': 24064,\n",
       " 'way': 6699}"
      ]
     },
     "execution_count": 2,
     "metadata": {},
     "output_type": "execute_result"
    }
   ],
   "source": [
    "import mapparser\n",
    "mapparser.count_tags(SAMPLE_OSM_FILE)"
   ]
  },
  {
   "cell_type": "markdown",
   "metadata": {
    "deletable": true,
    "editable": true
   },
   "source": [
    "The full compressed osm file is 70 MB, and the uncompressed osm file is 1.42 GB.  The sample osm file is 14.3 MB.  There are a total of 63,907 nodes, 24,064 tags, and 6,699 ways in the sample osm file."
   ]
  },
  {
   "cell_type": "code",
   "execution_count": 3,
   "metadata": {
    "collapsed": false,
    "deletable": true,
    "editable": true
   },
   "outputs": [
    {
     "data": {
      "text/plain": [
       "{'lower': 13127, 'lower_colon': 10823, 'other': 114, 'problemchars': 0}"
      ]
     },
     "execution_count": 3,
     "metadata": {},
     "output_type": "execute_result"
    }
   ],
   "source": [
    "import tag_types\n",
    "tag_types.process_map(SAMPLE_OSM_FILE)"
   ]
  },
  {
   "cell_type": "markdown",
   "metadata": {
    "deletable": true,
    "editable": true
   },
   "source": [
    "Great, there is no problematic characters!"
   ]
  },
  {
   "cell_type": "markdown",
   "metadata": {
    "deletable": true,
    "editable": true
   },
   "source": [
    "#### 2. Explore the Users"
   ]
  },
  {
   "cell_type": "code",
   "execution_count": 4,
   "metadata": {
    "collapsed": false,
    "deletable": true,
    "editable": true
   },
   "outputs": [
    {
     "data": {
      "text/plain": [
       "422"
      ]
     },
     "execution_count": 4,
     "metadata": {},
     "output_type": "execute_result"
    }
   ],
   "source": [
    "import users\n",
    "len(users.get_unique_users(SAMPLE_OSM_FILE))"
   ]
  },
  {
   "cell_type": "markdown",
   "metadata": {
    "deletable": true,
    "editable": true
   },
   "source": [
    "There are 422 unique users that have contributed to the data."
   ]
  },
  {
   "cell_type": "markdown",
   "metadata": {
    "deletable": true,
    "editable": true
   },
   "source": [
    "#### 3. Inconsistent Street Name \n",
    "The expected street name list was created by exploring the sample osm file.  I woule like to use the full name instead of abbreviations.  The mapping file was saved in a street mapping dictionary.  For example, if the street name includes \"FM\", it should be replaced by \"Farm-to-Market Road\"."
   ]
  },
  {
   "cell_type": "code",
   "execution_count": 5,
   "metadata": {
    "collapsed": false,
    "deletable": true,
    "editable": true
   },
   "outputs": [
    {
     "name": "stdout",
     "output_type": "stream",
     "text": [
      "['(512)282-0182', '(512)652-1200', '(512)759-4700', '+1512-244-8500', '+1877815-0542', '512-345-6070', '512-477-6104']\n",
      "Expected Street Names:\n",
      "['Street', 'Avenue', 'Boulevard', 'Drive', 'Court', 'Place', 'Square', 'Lane', 'Road', 'Trail', 'Parkway', 'Commons', 'Ridge', 'Cove', 'Hill', 'Circle', 'Run', 'Park', 'Plaza', 'Loop', 'Pass', 'Bend', 'Way', 'Trace', 'Highway', 'Crossing', 'Terrace', 'Path', 'Hollow', 'Skyway']\n",
      "Mapping from inconsistent street names to consistent street names:\n",
      "{'Trl': 'Trail ', 'Tr': 'Trail', 'Cv': 'Cove', 'Rd': 'Road', 'Ovlk': 'Overlook', 'Dr': 'Drive', 'FM': 'Farm-to-Market Road'}\n"
     ]
    }
   ],
   "source": [
    "import audit\n",
    "print \"Expected Street Names:\"\n",
    "print audit.expected\n",
    "\n",
    "print \"Mapping from inconsistent street names to consistent street names:\"\n",
    "print audit.street_mapping"
   ]
  },
  {
   "cell_type": "markdown",
   "metadata": {
    "deletable": true,
    "editable": true
   },
   "source": [
    "#### 4. Inconsistent City Names\n",
    "The expected city name list was created by exploring the sample osm file.  There are inconsistent city names, such as \"Austin\" and \"Austin,TX\".  There are also city names without spaces, such as \"CedarPark\" and \"RoundRock\".  I would like to update city names to be consistent.  The mapping file was saved in a city mapping dictionary."
   ]
  },
  {
   "cell_type": "code",
   "execution_count": 6,
   "metadata": {
    "collapsed": false,
    "deletable": true,
    "editable": true
   },
   "outputs": [
    {
     "name": "stdout",
     "output_type": "stream",
     "text": [
      "Mapping from inconsistent city names to consistent city names:\n",
      "{'RoundRock': 'Round Rock', 'CedarPark': 'Cedar Park', 'Austin,TX': 'Austin'}\n"
     ]
    }
   ],
   "source": [
    "print \"Mapping from inconsistent city names to consistent city names:\"\n",
    "print audit.city_mapping"
   ]
  },
  {
   "cell_type": "markdown",
   "metadata": {
    "deletable": true,
    "editable": true
   },
   "source": [
    "#### 5. Incomplete Phone Numbers\n",
    "There are not a lot of phone numbers in the sample osm file.  There are only seven unique phone numbers in the sample osm file.  Since the phone numbers are far from enough, I will not clean it up in for the csv files."
   ]
  },
  {
   "cell_type": "code",
   "execution_count": 7,
   "metadata": {
    "collapsed": false,
    "deletable": true,
    "editable": true
   },
   "outputs": [
    {
     "name": "stdout",
     "output_type": "stream",
     "text": [
      "['(512)282-0182', '(512)652-1200', '(512)759-4700', '+1512-244-8500', '+1877815-0542', '512-345-6070', '512-477-6104']\n"
     ]
    }
   ],
   "source": [
    "audit.audit_phone(SAMPLE_OSM_FILE)"
   ]
  },
  {
   "cell_type": "markdown",
   "metadata": {
    "deletable": true,
    "editable": true
   },
   "source": [
    "#### 6. Inconsistent State Name\n",
    "There are three different state values, and they are \"Texas\", \"TX\", and \"tx\".  I cleaned them up so that all of them are \"Texas\"."
   ]
  },
  {
   "cell_type": "code",
   "execution_count": 8,
   "metadata": {
    "collapsed": false,
    "deletable": true,
    "editable": true
   },
   "outputs": [
    {
     "name": "stdout",
     "output_type": "stream",
     "text": [
      "['TX', 'Texas', 'tx']\n"
     ]
    }
   ],
   "source": [
    "audit.audit_state(SAMPLE_OSM_FILE)"
   ]
  },
  {
   "cell_type": "markdown",
   "metadata": {
    "deletable": true,
    "editable": true
   },
   "source": [
    "### Analysis with SQL\n",
    "To analyze the data with SQL, the elements in the sample osm file was parsed to create five .csv files.  The file names and sizes are listed below.\n",
    "\n",
    "nodes.csv: 6 MB\n",
    "\n",
    "nodes_tags.csv: 113 KB\n",
    "\n",
    "ways.csv: 482 KB\n",
    "\n",
    "ways_tags.csv: 720 KB\n",
    "\n",
    "ways_nodes.csv: 1.7 MB\n",
    "\n",
    "I created a databse called \"open_street_map.db\" using file \"database.py\"."
   ]
  },
  {
   "cell_type": "code",
   "execution_count": 9,
   "metadata": {
    "collapsed": false,
    "deletable": true,
    "editable": true
   },
   "outputs": [],
   "source": [
    "query = '''\n",
    "select uid, count(*) as count\n",
    "from nodes\n",
    "group by uid\n",
    "order by count desc\n",
    "limit 20;\n",
    "'''"
   ]
  },
  {
   "cell_type": "markdown",
   "metadata": {
    "deletable": true,
    "editable": true
   },
   "source": [
    "The top contributor has 24724 contributions, and it's more than two times than the second users."
   ]
  },
  {
   "cell_type": "code",
   "execution_count": 10,
   "metadata": {
    "collapsed": true,
    "deletable": true,
    "editable": true
   },
   "outputs": [],
   "source": [
    "query = '''\n",
    "select value, count(*) as count\n",
    "from nodes_tags\n",
    "where key = 'amenity'\n",
    "group by value\n",
    "order by count desc\n",
    "limit 20;\n",
    "'''"
   ]
  },
  {
   "cell_type": "markdown",
   "metadata": {
    "deletable": true,
    "editable": true
   },
   "source": [
    "Of all the amenities, fire station is the most popular one, followed by bench, fuel, waste basket, bar, and cafe."
   ]
  },
  {
   "cell_type": "markdown",
   "metadata": {
    "deletable": true,
    "editable": true
   },
   "source": [
    "### Additional Ideas\n",
    "1. The phone numbers are not complete.  Perhaps we can use google or Yelp reviews to improve the dataset.\n",
    "2. We can improve the dataset by encouraging portable device carriers to report their location and related information.\n",
    "\n",
    "###### Potential Benefits\n",
    "1. Google or Yelp reviews usually have the accurate addresses for public places, such as libraries, churches, schools, etc.  And these information are readily available.  They can be accessed without additional efforts.\n",
    "2. Portable devices such as smart phones are popular and they can be used as GPS to improve the quality of the database.\n",
    "\n",
    "###### Potential problems\n",
    "1. Obtaining phone numbers of public places is not a problem, however, it can be an issue to get phone numbers of private properties, such as houses.\n",
    "2. It can be hard to encourage people to use their portable devices to report location information.  Also, there should be a easy way to report location inforamtion, such as an app on a smart phone."
   ]
  }
 ],
 "metadata": {
  "anaconda-cloud": {},
  "kernelspec": {
   "display_name": "Python 2",
   "language": "python",
   "name": "python2"
  },
  "language_info": {
   "codemirror_mode": {
    "name": "ipython",
    "version": 2
   },
   "file_extension": ".py",
   "mimetype": "text/x-python",
   "name": "python",
   "nbconvert_exporter": "python",
   "pygments_lexer": "ipython2",
   "version": "2.7.13"
  }
 },
 "nbformat": 4,
 "nbformat_minor": 1
}
